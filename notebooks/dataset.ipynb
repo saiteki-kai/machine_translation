{
 "cells": [
  {
   "cell_type": "code",
   "execution_count": null,
   "metadata": {},
   "outputs": [],
   "source": [
    "import typing\n",
    "\n",
    "import numpy as np\n",
    "\n",
    "from datasets import Dataset, load_dataset\n",
    "from pandas import DataFrame\n",
    "from transformers import AutoTokenizer, PreTrainedTokenizer, PreTrainedTokenizerFast\n",
    "\n",
    "\n",
    "tokenizer = AutoTokenizer.from_pretrained(\"haoranxu/X-ALMA-13B-Group2\", padding_side=\"left\")"
   ]
  },
  {
   "cell_type": "code",
   "execution_count": 8,
   "metadata": {},
   "outputs": [],
   "source": [
    "def compute_stats(title, lengths):\n",
    "    stats = {\n",
    "        \"min\": np.min(lengths),\n",
    "        \"max\": np.max(lengths),\n",
    "        \"mean\": np.mean(lengths),\n",
    "        \"std\": np.std(lengths),\n",
    "    }\n",
    "\n",
    "    print(title)\n",
    "    print(\"-\" * len(title))\n",
    "\n",
    "    for key, value in stats.items():\n",
    "        print(f\"{key:<20}: {value:.2f}\")\n",
    "\n",
    "    print()"
   ]
  },
  {
   "cell_type": "code",
   "execution_count": null,
   "metadata": {},
   "outputs": [],
   "source": [
    "def dataset_statistics(dataset: Dataset, tokenizer: PreTrainedTokenizer | PreTrainedTokenizerFast) -> DataFrame:\n",
    "    statistics = dataset.map(\n",
    "        lambda example: {\n",
    "            \"prompt_len\": len(tokenizer.tokenize(example[\"prompt\"])),\n",
    "            \"response_len\": len(tokenizer.tokenize(example[\"response\"])),\n",
    "        },\n",
    "    )\n",
    "    statistics_df = typing.cast(DataFrame, statistics.to_pandas())\n",
    "\n",
    "    prompt_lengths = statistics_df[\"prompt_len\"]\n",
    "    response_lengths = statistics_df[\"response_len\"]\n",
    "\n",
    "    compute_stats(\"prompt\", prompt_lengths)\n",
    "    compute_stats(\"response\", response_lengths)\n",
    "\n",
    "    return statistics_df"
   ]
  },
  {
   "cell_type": "code",
   "execution_count": null,
   "metadata": {},
   "outputs": [
    {
     "name": "stdout",
     "output_type": "stream",
     "text": [
      "\n",
      "prompt\n",
      "------\n",
      "min                 : 1.00\n",
      "max                 : 315.00\n",
      "mean                : 17.23\n",
      "std                 : 12.31\n",
      "response\n",
      "--------\n",
      "min                 : 1.00\n",
      "max                 : 487.00\n",
      "mean                : 79.99\n",
      "std                 : 50.42\n"
     ]
    }
   ],
   "source": [
    "print(\"PKU-Alignment/BeaverTails - 330k_train\")\n",
    "dataset = load_dataset(\"PKU-Alignment/BeaverTails\", split=\"330k_train\")\n",
    "dataset = typing.cast(Dataset, dataset)\n",
    "df_train = dataset_statistics(dataset, tokenizer)"
   ]
  },
  {
   "cell_type": "code",
   "execution_count": null,
   "metadata": {},
   "outputs": [
    {
     "name": "stdout",
     "output_type": "stream",
     "text": [
      "\n",
      "prompt\n",
      "------\n",
      "min                 : 1.00\n",
      "max                 : 229.00\n",
      "mean                : 16.90\n",
      "std                 : 11.36\n",
      "\n",
      "response\n",
      "--------\n",
      "min                 : 1.00\n",
      "max                 : 423.00\n",
      "mean                : 79.77\n",
      "std                 : 49.02\n",
      "\n"
     ]
    }
   ],
   "source": [
    "print(\"PKU-Alignment/BeaverTails - 330k_test\")\n",
    "dataset = load_dataset(\"PKU-Alignment/BeaverTails\", split=\"330k_test\")\n",
    "dataset = typing.cast(Dataset, dataset)\n",
    "df_test = dataset_statistics(dataset, tokenizer)"
   ]
  },
  {
   "cell_type": "code",
   "execution_count": null,
   "metadata": {},
   "outputs": [],
   "source": [
    "df_train.sort_values([\"prompt_len\", \"response_len\"], ascending=True)"
   ]
  },
  {
   "cell_type": "code",
   "execution_count": null,
   "metadata": {},
   "outputs": [],
   "source": [
    "df_test.sort_values([\"prompt_len\", \"response_len\"], ascending=True)"
   ]
  }
 ],
 "metadata": {
  "kernelspec": {
   "display_name": ".venv",
   "language": "python",
   "name": "python3"
  },
  "language_info": {
   "codemirror_mode": {
    "name": "ipython",
    "version": 3
   },
   "file_extension": ".py",
   "mimetype": "text/x-python",
   "name": "python",
   "nbconvert_exporter": "python",
   "pygments_lexer": "ipython3",
   "version": "3.12.7"
  }
 },
 "nbformat": 4,
 "nbformat_minor": 2
}
