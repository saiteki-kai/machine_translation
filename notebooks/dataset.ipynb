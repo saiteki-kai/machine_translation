{
 "cells": [
  {
   "cell_type": "code",
   "execution_count": null,
   "metadata": {},
   "outputs": [],
   "source": [
    "import numpy as np\n",
    "\n",
    "from datasets import load_dataset\n",
    "from transformers import AutoTokenizer"
   ]
  },
  {
   "cell_type": "code",
   "execution_count": 8,
   "metadata": {},
   "outputs": [],
   "source": [
    "def compute_stats(title, lengths):\n",
    "    stats = {\n",
    "        \"min\": np.min(lengths),\n",
    "        \"max\": np.max(lengths),\n",
    "        \"mean\": np.mean(lengths),\n",
    "        \"std\": np.std(lengths),\n",
    "    }\n",
    "\n",
    "    print(title)\n",
    "    print(\"-\" * len(title))\n",
    "\n",
    "    for key, value in stats.items():\n",
    "        print(f\"{key:<20}: {value:.2f}\")\n",
    "\n",
    "    print()"
   ]
  },
  {
   "cell_type": "code",
   "execution_count": null,
   "metadata": {},
   "outputs": [],
   "source": [
    "tokenizer = AutoTokenizer.from_pretrained(\"haoranxu/X-ALMA-13B-Group2\")\n",
    "\n",
    "dataset = load_dataset(\"PKU-Alignment/BeaverTails\", split=\"330k_train\")\n",
    "\n",
    "statistics = dataset.map(\n",
    "    lambda example: {\n",
    "        \"prompt_len\": len(tokenizer.tokenize(example[\"prompt\"])),\n",
    "        \"response_len\": len(tokenizer.tokenize(example[\"response\"])),\n",
    "    },\n",
    ")\n",
    "\n",
    "statistics_df = statistics.to_pandas()\n",
    "\n",
    "prompt_lengths = statistics_df[\"prompt_len\"]\n",
    "response_lengths = statistics_df[\"response_len\"]\n",
    "\n",
    "compute_stats(\"prompt\", prompt_lengths)\n",
    "compute_stats(\"response\", response_lengths)"
   ]
  },
  {
   "cell_type": "code",
   "execution_count": null,
   "metadata": {},
   "outputs": [],
   "source": [
    "statistics_df.sort_values([\"prompt_len\", \"response_len\"], ascending=True)"
   ]
  }
 ],
 "metadata": {
  "kernelspec": {
   "display_name": ".venv",
   "language": "python",
   "name": "python3"
  },
  "language_info": {
   "codemirror_mode": {
    "name": "ipython",
    "version": 3
   },
   "file_extension": ".py",
   "mimetype": "text/x-python",
   "name": "python",
   "nbconvert_exporter": "python",
   "pygments_lexer": "ipython3",
   "version": "3.12.7"
  }
 },
 "nbformat": 4,
 "nbformat_minor": 2
}
